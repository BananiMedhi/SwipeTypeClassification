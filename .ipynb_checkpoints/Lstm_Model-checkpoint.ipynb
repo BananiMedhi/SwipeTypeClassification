{
 "cells": [
  {
   "cell_type": "code",
   "execution_count": null,
   "metadata": {
    "collapsed": true
   },
   "outputs": [],
   "source": [
    "model = None"
   ]
  },
  {
   "cell_type": "code",
   "execution_count": null,
   "metadata": {},
   "outputs": [],
   "source": [
    "import numpy as np\n",
    "from urllib.parse import unquote\n",
    "import pandas as pd\n",
    "from keras.datasets import imdb\n",
    "from keras.models import Sequential      \n",
    "from keras.layers import Dense           \n",
    "from keras.layers import LSTM            \n",
    "from keras.layers.embeddings import Embedding \n",
    "from keras.preprocessing import sequence\n",
    "from sklearn import preprocessing\n",
    "from flask import Flask, request \n",
    "np.random.seed(7)"
   ]
  },
  {
   "cell_type": "code",
   "execution_count": null,
   "metadata": {
    "collapsed": true,
    "scrolled": false
   },
   "outputs": [],
   "source": [
    "def removeNeg(arr):\n",
    "    return [(float(i)-min(arr))/(max(arr)-min(arr)) for i in arr]\n",
    "def formatArray(arr):\n",
    "    last = arr[len(arr)-1]\n",
    "    content = last.split(\"//\")\n",
    "    arr[len(arr)-1] = content[0]\n",
    "    return arr,int(content[1])\n",
    "def readFile(fname):\n",
    "    with open(fname) as f:\n",
    "        content = f.readlines()\n",
    "    content = [x.strip() for x in content]\n",
    "    varrr = []\n",
    "    classLabel = []\n",
    "    for i in content:\n",
    "        str_v = i.split(\",\")\n",
    "        str_v,label = formatArray(str_v)\n",
    "        str_v = [int(el) for el in str_v]\n",
    "        str_v = removeNeg(str_v)\n",
    "        vv=str(str_v).strip('[]')\n",
    "        vv=vv.replace(',','')\n",
    "        varrr.append(vv)\n",
    "        classLabel.append(label)\n",
    "    return varrr,classLabel\n",
    "def readData():\n",
    "    df = pd.DataFrame()\n",
    "    fname1 = \"lr.txt\"\n",
    "    fname2 = \"td.txt\"\n",
    "    classLabel = []\n",
    "    varrr = []\n",
    "    var,clabel = readFile(fname1)\n",
    "    varrr+=var\n",
    "    classLabel+=clabel\n",
    "    var,clabel = readFile(fname2)\n",
    "    varrr+=var\n",
    "    classLabel+=clabel\n",
    "    classLabel  = np.array(classLabel)\n",
    "    df['sequence'] = pd.Series(varrr).str.join('')\n",
    "    df['sequence'] = df['sequence'].apply(lambda x: [float(e) for e in x.split()])\n",
    "    train_size = int(len(df) * (1))\n",
    "    X_train = df['sequence'].values[:train_size]\n",
    "    return (X_train,classLabel),(X_train,classLabel)"
   ]
  },
  {
   "cell_type": "code",
   "execution_count": null,
   "metadata": {
    "collapsed": true
   },
   "outputs": [],
   "source": [
    "def load_data(test_split = 0):\n",
    "    print ('Loading data...')\n",
    "    input_file = \"magZ.csv\"\n",
    "    df = pd.read_csv(input_file)\n",
    "\n",
    "    varr = df.fillna('').values.tolist()\n",
    "    varrr = []\n",
    "    for v in varr:\n",
    "        del v[-1]\n",
    "        v = removeNeg(v)\n",
    "        vv=str(v).strip('[]')\n",
    "        vv=vv.replace(',','')\n",
    "        varrr.append(vv)\n",
    "    df['sequence'] = pd.Series(varrr).str.join('')  \n",
    "    df.rename(columns={\"Class Label\": \"target\"}, inplace=True)\n",
    "\n",
    "    \n",
    "    \n",
    "    df['sequence'] = df['sequence'].apply(lambda x: [float(e) for e in x.split()])\n",
    "    df = df.reindex(np.random.permutation(df.index))\n",
    "    train_size = int(len(df) * (1 - test_split))\n",
    "    X_train = df['sequence'].values[:train_size]\n",
    "    y_train = np.array(df['target'].values[:train_size])\n",
    "    return (X_train, y_train) , (X_train, y_train)\n",
    "\n",
    "\n",
    "def load_model():\n",
    "    (X_train, y_train) , (X_test, y_test) = readData()\n",
    "    max_review_length = 100\n",
    "    X_train = sequence.pad_sequences(X_train, maxlen=max_review_length,dtype='float32')\n",
    "    X_test = sequence.pad_sequences(X_test, maxlen=max_review_length,dtype='float32')\n",
    "    print(X_train)\n",
    "    embedding_vecor_length = 32\n",
    "    global model\n",
    "    model = Sequential()\n",
    "    model.add(Embedding(5000, embedding_vecor_length, input_length=100))\n",
    "    model.add(LSTM(50))\n",
    "    model.add(Dense(1, activation='sigmoid'))\n",
    "    model.compile(loss='binary_crossentropy', optimizer='adam', metrics=['accuracy'])\n",
    "    model.fit(X_train, y_train, epochs=10, batch_size=50)\n",
    "\n",
    "    scores = model.evaluate(X_test, y_test, verbose=0)\n",
    "    print(\"Accuracy: %.2f%%\" % (scores[1]*100)) "
   ]
  },
  {
   "cell_type": "code",
   "execution_count": null,
   "metadata": {},
   "outputs": [],
   "source": [
    "load_model()"
   ]
  },
  {
   "cell_type": "code",
   "execution_count": null,
   "metadata": {
    "scrolled": false
   },
   "outputs": [],
   "source": [
    "app = Flask(__name__)\n",
    "\n",
    "@app.route(\"/testClass\")\n",
    "def index1():\n",
    "    global model\n",
    "    n = request.args.get(\"param\")\n",
    "    n = n[1:-1]\n",
    "    n = [int(x) for x in n.split(\",\")]\n",
    "    print(n)\n",
    "    n = removeNeg(n)\n",
    "    Xnew = [n]\n",
    "\n",
    "    Xnew = sequence.pad_sequences(Xnew, maxlen=100,dtype='float32')\n",
    "    print(Xnew)\n",
    "    ynew = model.predict_classes(Xnew)\n",
    "    print(ynew)\n",
    "    return str(ynew[0][0])\n",
    "    \n",
    "if __name__ == '__main__':\n",
    "    app.run(host='0.0.0.0', port=5000)"
   ]
  }
 ],
 "metadata": {
  "kernelspec": {
   "display_name": "Python 3",
   "language": "python",
   "name": "python3"
  },
  "language_info": {
   "codemirror_mode": {
    "name": "ipython",
    "version": 3
   },
   "file_extension": ".py",
   "mimetype": "text/x-python",
   "name": "python",
   "nbconvert_exporter": "python",
   "pygments_lexer": "ipython3",
   "version": "3.6.3"
  }
 },
 "nbformat": 4,
 "nbformat_minor": 2
}
